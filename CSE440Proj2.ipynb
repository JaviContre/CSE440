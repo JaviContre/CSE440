{
 "cells": [
  {
   "cell_type": "markdown",
   "metadata": {
    "state": "normal"
   },
   "source": [
    "# Introduction\n",
    "\n",
    "\n",
    "I implemented a simple binary perceptron and trained it to perform simple classification. This task involves classifying tumors as malignant or benign (0 and 1 respectively) according to 30 different measurements. I needed an accuracy of 70% or higher and could not use sklearn within the perceptron algorithm"
   ]
  },
  {
   "cell_type": "markdown",
   "metadata": {
    "state": "normal"
   },
   "source": [
    "# Procedure\n",
    "\n",
    "There are two phases for this project:\n",
    "1. getting and loading the dataset\n",
    "2. implementing, training and testing the perceptron.\n"
   ]
  },
  {
   "cell_type": "code",
   "execution_count": 2,
   "metadata": {
    "state": "normal"
   },
   "outputs": [],
   "source": [
    "import numpy as np\n",
    "import sklearn\n",
    "from sklearn import datasets\n",
    "from sklearn.metrics import confusion_matrix\n",
    "from sklearn.preprocessing import StandardScaler\n",
    "import matplotlib.pyplot as plt\n",
    "import matplotlib.ticker as ticker\n",
    "import random"
   ]
  },
  {
   "cell_type": "markdown",
   "metadata": {
    "state": "normal"
   },
   "source": [
    "I imported the data and split it to training and testing sets. The following lines load the UCI ML Breast Cancer Wisconsin (Diagnostic) Data Set. which contains 569 cases of tumors (each represented by 30 measurements). I split this data to 500 training cases and the rest for testing."
   ]
  },
  {
   "cell_type": "code",
   "execution_count": 3,
   "metadata": {
    "state": "normal"
   },
   "outputs": [],
   "source": [
    "# load the data set\n",
    "img,label=sklearn.datasets.load_breast_cancer(return_X_y=True)\n",
    "# split the data set\n",
    "scaler = StandardScaler()\n",
    "img = scaler.fit_transform(img)\n",
    "TRAIN_SIZE = 511\n",
    "label = 2*label-1\n",
    "train_img,test_img = img[:TRAIN_SIZE], img[TRAIN_SIZE:]\n",
    "train_label,test_label = label[:TRAIN_SIZE], label[TRAIN_SIZE:]\n"
   ]
  },
  {
   "cell_type": "markdown",
   "metadata": {
    "state": "normal"
   },
   "source": [
    "# Phase Two: Perceptron Model"
   ]
  },
  {
   "cell_type": "code",
   "execution_count": 4,
   "metadata": {
    "state": "normal"
   },
   "outputs": [],
   "source": [
    "# Perceptron Class\n",
    "class Perceptron(object):\n",
    "    # Initialize the perceptron\n",
    "    def __init__(self, dim_input = 30, dim_out = 2, learning_rate = 1):\n",
    "        # model parameters \n",
    "        self.w = np.zeros(dim_input)\n",
    "        self.bias = 0.0\n",
    "        \n",
    "        # learning rate\n",
    "        self.learning_rate = learning_rate\n",
    "    \n",
    "    \n",
    "    def predict(self,input_array):\n",
    "        \n",
    "        if np.dot(self.w, input_array) + self.bias > 0: # compute linear combination\n",
    "            return 1\n",
    "        else:\n",
    "            return -1\n",
    "                    \n",
    "            \n",
    "    def train(self, training_inputs, labels):\n",
    "        \n",
    "        for i in range(len(labels)): # I want to iterate over training example by index\n",
    "            input = training_inputs[i]\n",
    "            label = labels[i]\n",
    "            prediction = self.predict(input)\n",
    "            if prediction != label:\n",
    "                self.w += self.learning_rate * label * input # updates weight if prediction is wrong\n",
    "                self.bias += self.learning_rate * label # updates bias if prediction is wrong\n",
    "        \n",
    "\n",
    "    \n",
    "    def test(self, testing_inputs, labels):\n",
    "        # number of correct predictions\n",
    "        count_correct = 0\n",
    "        # a list of the predicted labels the same order as the input \n",
    "        pred_list = []\n",
    "        for test_array, label in zip(testing_inputs,labels):\n",
    "            prediction = self.predict(test_array)\n",
    "            if prediction == label:\n",
    "                count_correct += 1\n",
    "            pred_list.append(prediction)\n",
    "        accuracy = float(count_correct)/len(test_label)\n",
    "        print('Accuracy is '+str(accuracy))\n",
    "        return np.asarray(pred_list)"
   ]
  },
  {
   "cell_type": "code",
   "execution_count": 5,
   "metadata": {
    "state": "normal"
   },
   "outputs": [],
   "source": [
    "# Number of epochs (iterations over the training set)\n",
    "NUM_EPOCH = 6"
   ]
  },
  {
   "cell_type": "code",
   "execution_count": 6,
   "metadata": {
    "state": "normal"
   },
   "outputs": [
    {
     "name": "stdout",
     "output_type": "stream",
     "text": [
      "6 epochs\n",
      "Accuracy is 0.9655172413793104\n"
     ]
    }
   ],
   "source": [
    "perceptron = Perceptron(learning_rate=0.5)\n",
    "for ii in range(NUM_EPOCH):\n",
    "    perceptron.train(train_img, train_label)\n",
    "print(str(NUM_EPOCH)+' epochs')\n",
    "pred_array = perceptron.test(test_img, test_label)"
   ]
  },
  {
   "cell_type": "code",
   "execution_count": null,
   "metadata": {},
   "outputs": [],
   "source": []
  }
 ],
 "metadata": {
  "kernelspec": {
   "display_name": "Python 3 (ipykernel)",
   "language": "python",
   "name": "python3"
  },
  "language_info": {
   "codemirror_mode": {
    "name": "ipython",
    "version": 3
   },
   "file_extension": ".py",
   "mimetype": "text/x-python",
   "name": "python",
   "nbconvert_exporter": "python",
   "pygments_lexer": "ipython3",
   "version": "3.8.19"
  },
  "mimir": {
   "data": {},
   "last_submission_id": "",
   "project_id": "c9e5aa19-d93c-4c82-bf77-22b19ffb2687"
  },
  "varInspector": {
   "cols": {
    "lenName": 16,
    "lenType": 16,
    "lenVar": 40
   },
   "kernels_config": {
    "python": {
     "delete_cmd_postfix": "",
     "delete_cmd_prefix": "del ",
     "library": "var_list.py",
     "varRefreshCmd": "print(var_dic_list())"
    },
    "r": {
     "delete_cmd_postfix": ") ",
     "delete_cmd_prefix": "rm(",
     "library": "var_list.r",
     "varRefreshCmd": "cat(var_dic_list()) "
    }
   },
   "types_to_exclude": [
    "module",
    "function",
    "builtin_function_or_method",
    "instance",
    "_Feature"
   ],
   "window_display": false
  }
 },
 "nbformat": 4,
 "nbformat_minor": 4
}
